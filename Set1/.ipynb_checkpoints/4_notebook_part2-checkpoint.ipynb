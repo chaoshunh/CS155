{
 "cells": [
  {
   "cell_type": "markdown",
   "metadata": {},
   "source": [
    "# Problem 4, Parts F-H: Stochastic Gradient Descent with a Larger Dataset"
   ]
  },
  {
   "cell_type": "markdown",
   "metadata": {},
   "source": [
    "Use this notebook to write your code for problem 4 parts F-H by filling in the sections marked `# TODO` and running all cells."
   ]
  },
  {
   "cell_type": "code",
   "execution_count": 7,
   "metadata": {
    "collapsed": true
   },
   "outputs": [],
   "source": [
    "# Setup.\n",
    "\n",
    "import numpy as np\n",
    "import matplotlib.pyplot as plt\n",
    "\n",
    "%matplotlib inline"
   ]
  },
  {
   "cell_type": "markdown",
   "metadata": {},
   "source": [
    "## Problem 4F: Perform SGD with the new dataset"
   ]
  },
  {
   "cell_type": "markdown",
   "metadata": {},
   "source": [
    "For the functions below, you may re-use your code from parts 4C-E. Note that you can now modify your SGD function to return the final weight vector instead of the weights after every epoch."
   ]
  },
  {
   "cell_type": "code",
   "execution_count": 8,
   "metadata": {
    "collapsed": true
   },
   "outputs": [],
   "source": [
    "def loss(X, Y, w):\n",
    "    '''\n",
    "    Calculate the squared loss function.\n",
    "    \n",
    "    Inputs:\n",
    "        X: A (N, D) shaped numpy array containing the data points.\n",
    "        Y: A (N, ) shaped numpy array containing the (float) labels of the data points.\n",
    "        w: A (D, ) shaped numpy array containing the weight vector.\n",
    "    \n",
    "    Outputs:\n",
    "        The loss evaluated with respect to X, Y, and w.\n",
    "    '''\n",
    "    \n",
    "    total_loss = 0                                 #sum of squared loss across all points\n",
    "    for i in range(len(Y)):                        #iterate through points\n",
    "        total_loss += (Y[i] - np.dot(w, X[i]))**2  #loss on single point\n",
    "    return total_loss\n",
    "    \n",
    "\n",
    "def gradient(x, y, w):\n",
    "    '''\n",
    "    Calculate the gradient of the loss function with respect to\n",
    "    a single point (x, y), and using weight vector w.\n",
    "    \n",
    "    Inputs:\n",
    "        x: A (D, ) shaped numpy array containing a single data point.\n",
    "        y: The float label for the data point.\n",
    "        w: A (D, ) shaped numpy array containing the weight vector.\n",
    "        \n",
    "    Output:\n",
    "        The gradient of the loss with respect to x, y, and w. \n",
    "    '''\n",
    "    \n",
    "    return -2 * (y - np.dot(w, x)) * x\n",
    " \n",
    "    \n",
    "def SGD(X, Y, w_start, eta, N_epochs):\n",
    "    '''\n",
    "    Perform SGD using dataset (X, Y), initial weight vector w_start,\n",
    "    learning rate eta, and N_epochs epochs.\n",
    "    \n",
    "    Inputs:\n",
    "        X: A (N, D) shaped numpy array containing the data points.\n",
    "        Y: A (N, ) shaped numpy array containing the (float) labels of the data points.\n",
    "        w_start:  A (D, ) shaped numpy array containing the weight vector initialization.\n",
    "        eta: The step size.\n",
    "        N_epochs: The number of epochs (iterations) to run SGD.\n",
    "        \n",
    "    Outputs:\n",
    "        w: A (D, ) shaped array containing the final weight vector.\n",
    "        losses: A (N_epochs, ) shaped array containing the losses from all iterations.\n",
    "    '''\n",
    "    \n",
    "    losses = np.zeros(N_epochs)             #array of losses from all iterations\n",
    "    w = w_start\n",
    "    \n",
    "    for i in range(N_epochs):           #iterate for set number of epochs\n",
    "        losses[i] = loss(X, Y, w)       #calculate the loss for the iteration \n",
    "\n",
    "        perm = list(range(len(Y)))      #indices of all points\n",
    "        np.random.permutation(perm)     #shuffle order that points are added in\n",
    "        \n",
    "        for p in perm:                  #compute gradient at each point and sum\n",
    "            x = X[p]\n",
    "            y = Y[p]\n",
    "            \n",
    "            w -= eta * gradient(x, y, w)   #gradient summed across all points\n",
    "            \n",
    "\n",
    "    return w, losses"
   ]
  },
  {
   "cell_type": "markdown",
   "metadata": {},
   "source": [
    "Next, we need to load the dataset. In doing so, the following function may be helpful:"
   ]
  },
  {
   "cell_type": "code",
   "execution_count": 9,
   "metadata": {
    "collapsed": true
   },
   "outputs": [],
   "source": [
    "def load_data(filename):\n",
    "    \"\"\"\n",
    "    Function loads data stored in the file filename and returns it as a numpy ndarray.\n",
    "    Input:\n",
    "        filename: given as a string.\n",
    "    Output:\n",
    "        Data contained in the file, returned as a numpy ndarray\n",
    "    \"\"\"\n",
    "    return np.loadtxt(filename, skiprows=1, delimiter=',')"
   ]
  },
  {
   "cell_type": "markdown",
   "metadata": {},
   "source": [
    "Now, load the dataset in sgd_data.csv and run SGD using the given parameters; print out the final weights."
   ]
  },
  {
   "cell_type": "code",
   "execution_count": 12,
   "metadata": {
    "collapsed": false
   },
   "outputs": [
    {
     "name": "stdout",
     "output_type": "stream",
     "text": [
      "weights:  [ -5.94229011   3.94369494 -11.72402388   8.78549375]\n",
      "bias:  -227.205913368\n"
     ]
    }
   ],
   "source": [
    "raw_data = load_data(\"sgd_data.csv\")\n",
    "n = len(raw_data)\n",
    "X = np.zeros((n, len(raw_data[0])))   #array for holding X; include space for x0\n",
    "Y = np.zeros(n)                       #array for Y values\n",
    "\n",
    "for i in range(n):                    #reformat into X and Y arrays\n",
    "    X[i][0] = 1\n",
    "    X[i][1:5] = raw_data[i][:4]\n",
    "    Y[i] = raw_data[i][4]\n",
    "    \n",
    "#parameters for SGD\n",
    "eta = np.e**-15                       #learning rate eta\n",
    "w = [0.001, 0.001, 0.001, 0.001]      #weight vector\n",
    "b = 0.001                             #bias\n",
    "w_start = [b] + w                   #modify weight vector to include bias\n",
    "num_epochs = 800                      #epochs\n",
    "\n",
    "final_w, losses = SGD(X, Y, w_start, eta, num_epochs)\n",
    "\n",
    "#report final weight\n",
    "print(\"weights: \", final_w[1:])\n",
    "print(\"bias: \", final_w[0])\n",
    "\n",
    "    \n"
   ]
  },
  {
   "cell_type": "markdown",
   "metadata": {},
   "source": [
    "## Problem 4G: Convergence of SGD"
   ]
  },
  {
   "cell_type": "markdown",
   "metadata": {},
   "source": [
    "This problem examines the convergence of SGD for different learning rates. Please implement your code in the cell below:"
   ]
  },
  {
   "cell_type": "code",
   "execution_count": 11,
   "metadata": {
    "collapsed": false
   },
   "outputs": [
    {
     "data": {
      "image/png": "[encoded data removed]",
      "text/plain": [
       "<matplotlib.figure.Figure at 0x115bb3128>"
      ]
     },
     "metadata": {},
     "output_type": "display_data"
    }
   ],
   "source": [
    "\n",
    "raw_data = load_data(\"sgd_data.csv\")\n",
    "n = len(raw_data)\n",
    "X = np.zeros((n, len(raw_data[0])))   #array for holding X; include space for x0\n",
    "Y = np.zeros(n)                       #array for Y values\n",
    "\n",
    "for i in range(n):                    #reformat into X and Y arrays\n",
    "    X[i][0] = 1\n",
    "    X[i][1:5] = raw_data[i][:4]\n",
    "    Y[i] = raw_data[i][4]\n",
    "    \n",
    "#parameters for SGD\n",
    "etas = [np.e ** -10, np.e ** -11, np.e ** -12, np.e ** -13, np.e ** -14, np.e ** -15]\n",
    "ln_eta = [-10, -11, -12, -13, -14, -15]\n",
    "w = [0.001, 0.001, 0.001, 0.001]      #weight vector\n",
    "b = 0.001                             #bias\n",
    "w_start = [b] + w                   #modify weight vector to include bias\n",
    "num_epochs = 800                      #epochs\n",
    "\n",
    "\n",
    "legend_handles = []\n",
    "series_names = []\n",
    "\n",
    "plt.close('all')\n",
    "plt.figure()\n",
    "\n",
    "for i in range(len(etas)):\n",
    "    _, losses = SGD(X, Y, w_start, etas[i], num_epochs)\n",
    "    name = 'eta = e^' + str(ln_eta[i])\n",
    "    data_series, = plt.plot(losses, label=name)\n",
    "    legend_handles.append(data_series)\n",
    "    series_names.append(name)\n",
    "\n",
    "    \n",
    "plt.legend(legend_handles, series_names, loc = \"upper left\", bbox_to_anchor=(1, 1))\n",
    "plt.xlabel('Epoch')\n",
    "plt.ylabel('Loss')\n",
    "plt.title('SGD Squared Loss per Epoch for Various Eta Values')\n",
    "plt.savefig(\"4g\")\n",
    "plt.show()"
   ]
  },
  {
   "cell_type": "markdown",
   "metadata": {},
   "source": [
    "## Problem 4H"
   ]
  },
  {
   "cell_type": "markdown",
   "metadata": {},
   "source": [
    "Provide your code for computing the least-squares analytical solution below."
   ]
  },
  {
   "cell_type": "code",
   "execution_count": 42,
   "metadata": {
    "collapsed": false
   },
   "outputs": [
    {
     "name": "stdout",
     "output_type": "stream",
     "text": [
      "weights:  [ -5.99157048   4.01509955 -11.93325972   8.99061096]\n",
      "bias:  -0.316442513271\n"
     ]
    }
   ],
   "source": [
    "raw_data = load_data(\"sgd_data.csv\")\n",
    "n = len(raw_data)\n",
    "X = np.zeros((n, len(raw_data[0])))   #array for holding X; include space for x0\n",
    "Y = np.zeros(n)                       #array for Y values\n",
    "\n",
    "for i in range(n):                    #reformat into X and Y arrays\n",
    "    X[i][0] = 1\n",
    "    X[i][1:5] = raw_data[i][:4]\n",
    "    Y[i] = raw_data[i][4]\n",
    "    \n",
    "term_1 = np.zeros((5, 5))\n",
    "term_2 = np.zeros(len(X[0]))\n",
    "for i in range(n):\n",
    "    #print(X[i])\n",
    "    x = X[i].reshape((1,5))\n",
    "    #print(x)\n",
    "    term_1 += np.dot(np.transpose(x), x)\n",
    "    term_2 += X[i] * Y[i]\n",
    "    #print(term_1)\n",
    "    #print(term_2)\n",
    "inv = np.linalg.inv(term_1)\n",
    "w = np.dot(np.linalg.inv(term_1), term_2)\n",
    "#report final weight\n",
    "print(\"weights: \", w[1:])\n",
    "print(\"bias: \", w[0])"
   ]
  },
  {
   "cell_type": "code",
   "execution_count": null,
   "metadata": {
    "collapsed": true
   },
   "outputs": [],
   "source": []
  }
 ],
 "metadata": {
  "anaconda-cloud": {},
  "kernelspec": {
   "display_name": "Python [default]",
   "language": "python",
   "name": "python3"
  },
  "language_info": {
   "codemirror_mode": {
    "name": "ipython",
    "version": 3
   },
   "file_extension": ".py",
   "mimetype": "text/x-python",
   "name": "python",
   "nbconvert_exporter": "python",
   "pygments_lexer": "ipython3",
   "version": "3.5.2"
  }
 },
 "nbformat": 4,
 "nbformat_minor": 1
}
